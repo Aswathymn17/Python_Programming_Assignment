{
  "nbformat": 4,
  "nbformat_minor": 0,
  "metadata": {
    "colab": {
      "provenance": [],
      "authorship_tag": "ABX9TyPqrG6eAAsM3AWfEIdPmtZf",
      "include_colab_link": true
    },
    "kernelspec": {
      "name": "python3",
      "display_name": "Python 3"
    },
    "language_info": {
      "name": "python"
    }
  },
  "cells": [
    {
      "cell_type": "markdown",
      "metadata": {
        "id": "view-in-github",
        "colab_type": "text"
      },
      "source": [
        "<a href=\"https://colab.research.google.com/github/Aswathymn17/Python_Programming_Assignment/blob/main/DAY01_PYTHON_PRACTICE.ipynb\" target=\"_parent\"><img src=\"https://colab.research.google.com/assets/colab-badge.svg\" alt=\"Open In Colab\"/></a>"
      ]
    },
    {
      "cell_type": "code",
      "execution_count": 1,
      "metadata": {
        "colab": {
          "base_uri": "https://localhost:8080/"
        },
        "id": "pE3YrL8ETcni",
        "outputId": "3fa21284-ca93-4d4c-ce0c-a75c1baf3919"
      },
      "outputs": [
        {
          "output_type": "stream",
          "name": "stdout",
          "text": [
            "Hello\n"
          ]
        }
      ],
      "source": [
        "# 1. Given the string \"Hello, World!\", extract and print the substring \"Hello\".\n",
        "s='Hello, World!'\n",
        "print(s[:5])"
      ]
    },
    {
      "cell_type": "code",
      "source": [
        "# 2. Given the string \"Python is fun\", extract and print the substring \"is\".\n",
        "s='Python is fun'\n",
        "print(s[7:9])"
      ],
      "metadata": {
        "colab": {
          "base_uri": "https://localhost:8080/"
        },
        "id": "9WabQbpMVSOO",
        "outputId": "075f676a-500b-44e7-fd30-66d5deacb1ce"
      },
      "execution_count": 2,
      "outputs": [
        {
          "output_type": "stream",
          "name": "stdout",
          "text": [
            "is\n"
          ]
        }
      ]
    },
    {
      "cell_type": "code",
      "source": [
        "# 3. Given the string \"Programming\", extract and print the substring \"gram\" using slicing indices.\n",
        "s='Programming'\n",
        "print(s[3:7])\n"
      ],
      "metadata": {
        "colab": {
          "base_uri": "https://localhost:8080/"
        },
        "id": "O-2a4D_mVwh-",
        "outputId": "72d3dee8-3ea2-4dbb-a570-d7e0b96263ff"
      },
      "execution_count": 5,
      "outputs": [
        {
          "output_type": "stream",
          "name": "stdout",
          "text": [
            "gram\n"
          ]
        }
      ]
    },
    {
      "cell_type": "code",
      "source": [
        "# 4. Given the string \"abcdefgh\", use slicing to print only the characters at even indices.\n",
        "s='abcdefgh'\n",
        "print(s[::2])"
      ],
      "metadata": {
        "colab": {
          "base_uri": "https://localhost:8080/"
        },
        "id": "bBgIGUJkWx5Y",
        "outputId": "1e2deaa5-0e22-415b-e151-c73a1b4e1cd0"
      },
      "execution_count": 3,
      "outputs": [
        {
          "output_type": "stream",
          "name": "stdout",
          "text": [
            "aceg\n"
          ]
        }
      ]
    },
    {
      "cell_type": "code",
      "source": [
        "# 5. Given the string \"abcdefg\", use negative indices to extract and print the substring \"efg\".\n",
        "s='abcdefg'\n",
        "print(s[-3:])"
      ],
      "metadata": {
        "colab": {
          "base_uri": "https://localhost:8080/"
        },
        "id": "frXv2mYtXaXq",
        "outputId": "1ad5150b-4c2c-408c-e2e3-b9d344e862be"
      },
      "execution_count": 4,
      "outputs": [
        {
          "output_type": "stream",
          "name": "stdout",
          "text": [
            "efg\n"
          ]
        }
      ]
    },
    {
      "cell_type": "code",
      "source": [
        "# 6.  Given the string \"Data Science\", use negative indices to extract and print the last three characters.\n",
        "s='Data Science'\n",
        "print(s[-3:])\n"
      ],
      "metadata": {
        "colab": {
          "base_uri": "https://localhost:8080/"
        },
        "id": "T-UPhMmUYj3E",
        "outputId": "be87015a-1fa6-4de7-a281-ef88b46cac66"
      },
      "execution_count": 5,
      "outputs": [
        {
          "output_type": "stream",
          "name": "stdout",
          "text": [
            "nce\n"
          ]
        }
      ]
    },
    {
      "cell_type": "code",
      "source": [
        "# 7. Given the string \"abcdefghij\", use slicing with a step to print every second character\n",
        "s='abcdefghij'\n",
        "print(s[1::2])"
      ],
      "metadata": {
        "colab": {
          "base_uri": "https://localhost:8080/"
        },
        "id": "I_FTMoXmZcj_",
        "outputId": "41f87315-bfed-48b4-c82b-c63821ce5e1f"
      },
      "execution_count": 6,
      "outputs": [
        {
          "output_type": "stream",
          "name": "stdout",
          "text": [
            "bdfhj\n"
          ]
        }
      ]
    },
    {
      "cell_type": "code",
      "source": [
        "#8. Given the string \"1234567890\", use slicing with a step to print the odd digits\n",
        "s='1234567890'\n",
        "print(s[1::2])"
      ],
      "metadata": {
        "colab": {
          "base_uri": "https://localhost:8080/"
        },
        "id": "2HnFoWGKcvU9",
        "outputId": "bae77003-891d-45c1-fdf1-844f9fe5eced"
      },
      "execution_count": 7,
      "outputs": [
        {
          "output_type": "stream",
          "name": "stdout",
          "text": [
            "24680\n"
          ]
        }
      ]
    },
    {
      "cell_type": "code",
      "source": [
        "#9. Given the string \"Hello\", use slicing to print the string in reverse order.\n",
        "s='Hello'\n",
        "print(s[::-1])"
      ],
      "metadata": {
        "colab": {
          "base_uri": "https://localhost:8080/"
        },
        "id": "tnmDYp-LdmXz",
        "outputId": "ca5add2a-603b-4280-eed4-fdc962f3ae9a"
      },
      "execution_count": 8,
      "outputs": [
        {
          "output_type": "stream",
          "name": "stdout",
          "text": [
            "olleH\n"
          ]
        }
      ]
    },
    {
      "cell_type": "code",
      "source": [
        "#10. Given the string \"abcdefghijk\", extract and print the substring \"acegik\" using slicing\n",
        "s='abcdefghijk'\n",
        "print(s[::2])"
      ],
      "metadata": {
        "colab": {
          "base_uri": "https://localhost:8080/"
        },
        "id": "YKjTj2uheVc5",
        "outputId": "4c6451be-37ee-4851-cf6f-9760f721ffca"
      },
      "execution_count": 9,
      "outputs": [
        {
          "output_type": "stream",
          "name": "stdout",
          "text": [
            "acegik\n"
          ]
        }
      ]
    }
  ]
}