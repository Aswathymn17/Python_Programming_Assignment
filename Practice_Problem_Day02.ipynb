{
  "nbformat": 4,
  "nbformat_minor": 0,
  "metadata": {
    "colab": {
      "provenance": [],
      "authorship_tag": "ABX9TyMaAw+AvjHcZz+H0Lj/vQ40",
      "include_colab_link": true
    },
    "kernelspec": {
      "name": "python3",
      "display_name": "Python 3"
    },
    "language_info": {
      "name": "python"
    }
  },
  "cells": [
    {
      "cell_type": "markdown",
      "metadata": {
        "id": "view-in-github",
        "colab_type": "text"
      },
      "source": [
        "<a href=\"https://colab.research.google.com/github/Aswathymn17/Python_Programming_Assignment/blob/main/Practice_Problem_Day02.ipynb\" target=\"_parent\"><img src=\"https://colab.research.google.com/assets/colab-badge.svg\" alt=\"Open In Colab\"/></a>"
      ]
    },
    {
      "cell_type": "markdown",
      "source": [
        "**Practice Problems Day02**"
      ],
      "metadata": {
        "id": "xnZ9fDq98lLe"
      }
    },
    {
      "cell_type": "code",
      "source": [
        "# 1. Write a program to find sum of all elements in a list of integers.\n",
        "list1=[1,77,88,4,9,10]\n",
        "print(sum(list1))"
      ],
      "metadata": {
        "colab": {
          "base_uri": "https://localhost:8080/"
        },
        "id": "E2w-BH048pxI",
        "outputId": "7cd48545-e10f-4331-880e-816bce75bc12"
      },
      "execution_count": 1,
      "outputs": [
        {
          "output_type": "stream",
          "name": "stdout",
          "text": [
            "189\n"
          ]
        }
      ]
    },
    {
      "cell_type": "code",
      "source": [
        "# 3. Input a sentence as a string.\n",
        "# a)Print its length\n",
        "# b)Print the first half of string\n",
        "#a)\n",
        "sen=input('Enter the sentence ')\n",
        "len_sen=len(sen)\n",
        "print('Length is string is ',len_sen)\n",
        "#b)\n",
        "f_half=len_sen//2\n",
        "print('First half of string is ',sen[:f_half])\n"
      ],
      "metadata": {
        "colab": {
          "base_uri": "https://localhost:8080/"
        },
        "id": "ddS5JKIu9e-Y",
        "outputId": "874578b7-1883-4a63-97bd-5543ef48222e"
      },
      "execution_count": 5,
      "outputs": [
        {
          "output_type": "stream",
          "name": "stdout",
          "text": [
            "Enter the sentence Hello Welcome to India\n",
            "Length is string is  22\n",
            "First half of string is  Hello Welco\n"
          ]
        }
      ]
    },
    {
      "cell_type": "code",
      "source": [
        "# 4. Write a program to enter a tuple of integers as (78,45,32,19,82,77,40,39). Change the third value in the tuple to 100\n",
        "tuple1=(78,45,32,19,82,77,40,39)\n",
        "list1=list(tuple1)\n",
        "list1[2]=100\n",
        "tuplenew=tuple(list1)\n",
        "print(tuplenew)"
      ],
      "metadata": {
        "colab": {
          "base_uri": "https://localhost:8080/"
        },
        "id": "9OFqCqjV_y0D",
        "outputId": "8675b126-2645-4c59-d354-296b8bf7636d"
      },
      "execution_count": 9,
      "outputs": [
        {
          "output_type": "stream",
          "name": "stdout",
          "text": [
            "(78, 45, 100, 19, 82, 77, 40, 39)\n"
          ]
        }
      ]
    },
    {
      "cell_type": "code",
      "source": [
        "\"\"\"\n",
        "5. Consider a list listA=[19,32,10,55,31,32,94,29,10,65,77,40,40]\n",
        "(a)Delete the first occurrence of 32\n",
        "(b)Delete all occurrences of 40\n",
        "(c)Delete the value at index=5\n",
        "(d)Modify the value at index=9 as 300\n",
        "(e)Add 200 at index=2\n",
        "(f)Print the final list with its length, maximum value and sum of all elements\n",
        "\"\"\"\n",
        "\n",
        "listA=[19,32,10,55,31,32,94,29,10,65,77,40,40]"
      ],
      "metadata": {
        "id": "bLfdInZHAqyu"
      },
      "execution_count": 10,
      "outputs": []
    },
    {
      "cell_type": "code",
      "source": [
        "# a.) Delete the first occurrence of 32\n",
        "listA.remove(32)"
      ],
      "metadata": {
        "id": "hAI7AiUUBKoA"
      },
      "execution_count": 11,
      "outputs": []
    },
    {
      "cell_type": "code",
      "source": [
        "listA"
      ],
      "metadata": {
        "colab": {
          "base_uri": "https://localhost:8080/"
        },
        "id": "SzV5K1JkBYnN",
        "outputId": "807a5e86-a30d-4627-b9d7-a39251c8f6b1"
      },
      "execution_count": 12,
      "outputs": [
        {
          "output_type": "execute_result",
          "data": {
            "text/plain": [
              "[19, 10, 55, 31, 32, 94, 29, 10, 65, 77, 40, 40]"
            ]
          },
          "metadata": {},
          "execution_count": 12
        }
      ]
    },
    {
      "cell_type": "code",
      "source": [
        "# b.) Delete all occurrences of 40\n",
        "del listA[-2:]"
      ],
      "metadata": {
        "id": "FvFzUvcPBc3r"
      },
      "execution_count": 13,
      "outputs": []
    },
    {
      "cell_type": "code",
      "source": [
        "listA"
      ],
      "metadata": {
        "colab": {
          "base_uri": "https://localhost:8080/"
        },
        "id": "cCb2ISAbBvb_",
        "outputId": "0895c22f-c816-40bc-8b0a-7967ef69c8a1"
      },
      "execution_count": 14,
      "outputs": [
        {
          "output_type": "execute_result",
          "data": {
            "text/plain": [
              "[19, 10, 55, 31, 32, 94, 29, 10, 65, 77]"
            ]
          },
          "metadata": {},
          "execution_count": 14
        }
      ]
    },
    {
      "cell_type": "code",
      "source": [
        "# c.) Delete the value at index=5\n",
        "listA.pop(5)\n",
        "listA"
      ],
      "metadata": {
        "colab": {
          "base_uri": "https://localhost:8080/"
        },
        "id": "pkJDbiK1ByJR",
        "outputId": "16f2c020-e0ef-4281-ca0d-e048ec2bd97d"
      },
      "execution_count": 15,
      "outputs": [
        {
          "output_type": "execute_result",
          "data": {
            "text/plain": [
              "[19, 10, 55, 31, 32, 29, 10, 65, 77]"
            ]
          },
          "metadata": {},
          "execution_count": 15
        }
      ]
    },
    {
      "cell_type": "code",
      "source": [
        "#d.) Modify the value at index=9 as 300\n",
        "listA.insert(9,300)\n",
        "listA"
      ],
      "metadata": {
        "colab": {
          "base_uri": "https://localhost:8080/"
        },
        "id": "vBKD9MyFCE2Y",
        "outputId": "2e698072-c97a-446a-adb4-d045688cac79"
      },
      "execution_count": 18,
      "outputs": [
        {
          "output_type": "execute_result",
          "data": {
            "text/plain": [
              "[19, 10, 55, 31, 32, 29, 10, 65, 77, 300]"
            ]
          },
          "metadata": {},
          "execution_count": 18
        }
      ]
    },
    {
      "cell_type": "code",
      "source": [
        "# e.) Add 200 at index=2\n",
        "listA.insert(2,200)\n",
        "listA"
      ],
      "metadata": {
        "colab": {
          "base_uri": "https://localhost:8080/"
        },
        "id": "IgMJ_A6GDIDi",
        "outputId": "5cf5d711-7c3a-4ec7-93e8-8174d6ad7868"
      },
      "execution_count": 19,
      "outputs": [
        {
          "output_type": "execute_result",
          "data": {
            "text/plain": [
              "[19, 10, 200, 55, 31, 32, 29, 10, 65, 77, 300]"
            ]
          },
          "metadata": {},
          "execution_count": 19
        }
      ]
    },
    {
      "cell_type": "code",
      "source": [
        "# f.) Print the final list with its length, maximum value and sum of all elements\n",
        "print('Final list length is', len(listA))\n",
        "print('Max value in list is ',max(listA))\n",
        "print('Sum of all elements in list is ',sum(listA))"
      ],
      "metadata": {
        "colab": {
          "base_uri": "https://localhost:8080/"
        },
        "id": "77hZngnADrRn",
        "outputId": "30977a67-da09-4d96-8f8b-24d12b75062d"
      },
      "execution_count": 20,
      "outputs": [
        {
          "output_type": "stream",
          "name": "stdout",
          "text": [
            "Final list length is 11\n",
            "Max value in list is  300\n",
            "Sum of all elements in list is  828\n"
          ]
        }
      ]
    },
    {
      "cell_type": "code",
      "source": [
        "\"\"\"\n",
        "Consider a string ”The day has been long”.\n",
        "(a)Delete the value at index =4\n",
        "(b)Print the string 4 times in a single line with space between each repetition\n",
        "(c)Print the string 3 times in a new line each time\n",
        "(d)Modify the string at index 7 as ’A’\n",
        "(e)Print the string from index 4 to 15\n",
        "(f)Print the final string with its length\n",
        "\"\"\"\n",
        "string1='The day has been long'"
      ],
      "metadata": {
        "id": "WL-h736qESgn"
      },
      "execution_count": 28,
      "outputs": []
    },
    {
      "cell_type": "code",
      "source": [
        "# a.) Delete the value at index =4\n",
        "new_string=string1[:4]+string1[5:]\n",
        "print(new_string)"
      ],
      "metadata": {
        "colab": {
          "base_uri": "https://localhost:8080/"
        },
        "id": "X1HjN-JYEokS",
        "outputId": "edda47e3-338a-4d2a-aa3e-74b9e3f707f3"
      },
      "execution_count": 29,
      "outputs": [
        {
          "output_type": "stream",
          "name": "stdout",
          "text": [
            "The ay has been long\n"
          ]
        }
      ]
    },
    {
      "cell_type": "code",
      "source": [
        "# b.) Print the string 4 times in a single line with space between each repetition\n",
        "print((new_string+' ')*4)"
      ],
      "metadata": {
        "colab": {
          "base_uri": "https://localhost:8080/"
        },
        "id": "JP43HWW7Fs2v",
        "outputId": "55c742f1-142b-48b5-dec0-eb81be2598a1"
      },
      "execution_count": 30,
      "outputs": [
        {
          "output_type": "stream",
          "name": "stdout",
          "text": [
            "The ay has been long The ay has been long The ay has been long The ay has been long \n"
          ]
        }
      ]
    },
    {
      "cell_type": "code",
      "source": [
        "# c.) Print the string 3 times in a new line each time\n",
        "print((new_string+'\\n')*3)"
      ],
      "metadata": {
        "colab": {
          "base_uri": "https://localhost:8080/"
        },
        "id": "pwgF18TIF7CH",
        "outputId": "1bf77c80-3eaf-40cd-c6d3-3a5a1b8d83e4"
      },
      "execution_count": 31,
      "outputs": [
        {
          "output_type": "stream",
          "name": "stdout",
          "text": [
            "The ay has been long\n",
            "The ay has been long\n",
            "The ay has been long\n",
            "\n"
          ]
        }
      ]
    },
    {
      "cell_type": "code",
      "source": [
        "# d.) )Modify the string at index 7 as ’A’\n",
        "modify_string=new_string[:7]+'A'+new_string[8:]\n",
        "print(modify_string)"
      ],
      "metadata": {
        "colab": {
          "base_uri": "https://localhost:8080/"
        },
        "id": "qxONqYuJGE8C",
        "outputId": "f1484ca6-420b-45a9-c357-1c4e35bb25d4"
      },
      "execution_count": 36,
      "outputs": [
        {
          "output_type": "stream",
          "name": "stdout",
          "text": [
            "The ay Aas been long\n"
          ]
        }
      ]
    },
    {
      "cell_type": "code",
      "source": [
        "# e.) Print the string from index 4 to 15\n",
        "print(modify_string[4:16])"
      ],
      "metadata": {
        "colab": {
          "base_uri": "https://localhost:8080/"
        },
        "id": "nMJhzQeyIH_s",
        "outputId": "20623789-4bc0-433a-eba4-5d3bc007d87f"
      },
      "execution_count": 37,
      "outputs": [
        {
          "output_type": "stream",
          "name": "stdout",
          "text": [
            "ay Aas been \n"
          ]
        }
      ]
    },
    {
      "cell_type": "code",
      "source": [
        "# f.) Print the final string with its length\n",
        "print('final string length is ',len(modify_string))"
      ],
      "metadata": {
        "colab": {
          "base_uri": "https://localhost:8080/"
        },
        "id": "SlE-y7-XItwG",
        "outputId": "d43638b0-4bed-403f-f5f1-304011edcc34"
      },
      "execution_count": 38,
      "outputs": [
        {
          "output_type": "stream",
          "name": "stdout",
          "text": [
            "final string length is  20\n"
          ]
        }
      ]
    }
  ]
}